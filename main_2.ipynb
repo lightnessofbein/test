{
 "cells": [
  {
   "cell_type": "code",
   "execution_count": 3,
   "metadata": {
    "collapsed": true
   },
   "outputs": [],
   "source": [
    "from module import *\n",
    "from warnings import filterwarnings\n",
    "filterwarnings('ignore')"
   ]
  },
  {
   "cell_type": "markdown",
   "source": [
    "Welford's online algorithm"
   ],
   "metadata": {
    "collapsed": false
   }
  },
  {
   "cell_type": "code",
   "execution_count": 5,
   "outputs": [
    {
     "data": {
      "text/plain": "<module.ParseVacations at 0x7f392f7f9650>"
     },
     "execution_count": 5,
     "metadata": {},
     "output_type": "execute_result"
    }
   ],
   "source": [
    "train_path = 'train.tsv'\n",
    "test_path = 'test.tsv'\n",
    "\n",
    "# объявляем парсер для тсв файла\n",
    "tsv_parser = TsvParser(path=train_path, reading_type='incremental', chunksize=1)\n",
    "\n",
    "# объявляем объект класса, который нужен для парсинга + стандартизации одновременно\n",
    "parser = ParseVacations(needed_feature_codes=[2])\n",
    "\n",
    "# z_standardized - класс, с пом. которого выполняется стандартизация\n",
    "# Для простоты, был сделан согласно API sklearn'a, для простоты замены на любое другое преобраз.\n",
    "pars = parser.train_scalers(tsv_parser, z_standardizer)\n",
    "\n",
    "# еще раз читаем трейн файл и согласно условию выводим в test.tsv\n",
    "parser.transform_file(test_path)\n"
   ],
   "metadata": {
    "collapsed": false,
    "pycharm": {
     "name": "#%%\n"
    }
   }
  },
  {
   "cell_type": "code",
   "execution_count": 6,
   "outputs": [
    {
     "name": "stdout",
     "output_type": "stream",
     "text": [
      "python 3.7.7\n",
      "pandas 1.0.3\n",
      "sklearn 0.22.1\n",
      "numpy 1.18.1\n"
     ]
    }
   ],
   "source": [
    "from platform import python_version\n",
    "from sklearn import __version__ as sk_version\n",
    "\n",
    "print('python', python_version())\n",
    "print('pandas', pd.__version__)\n",
    "print('sklearn', sk_version)\n",
    "print('numpy', np.__version__)"
   ],
   "metadata": {
    "collapsed": false,
    "pycharm": {
     "name": "#%%\n"
    }
   }
  },
  {
   "cell_type": "code",
   "execution_count": null,
   "outputs": [],
   "source": [
    "\n"
   ],
   "metadata": {
    "collapsed": false,
    "pycharm": {
     "name": "#%%\n"
    }
   }
  }
 ],
 "metadata": {
  "kernelspec": {
   "display_name": "Python 3",
   "language": "python",
   "name": "python3"
  },
  "language_info": {
   "codemirror_mode": {
    "name": "ipython",
    "version": 2
   },
   "file_extension": ".py",
   "mimetype": "text/x-python",
   "name": "python",
   "nbconvert_exporter": "python",
   "pygments_lexer": "ipython2",
   "version": "2.7.6"
  }
 },
 "nbformat": 4,
 "nbformat_minor": 0
}